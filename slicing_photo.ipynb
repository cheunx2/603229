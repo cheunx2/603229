{
 "cells": [
  {
   "cell_type": "code",
   "execution_count": 1,
   "id": "1c843593-3e7c-4ae6-a38b-cbc2f38bc836",
   "metadata": {},
   "outputs": [],
   "source": [
    "import cv2\n"
   ]
  },
  {
   "cell_type": "code",
   "execution_count": 2,
   "id": "79e3f123-08fb-4480-be68-34e48a37ae2a",
   "metadata": {},
   "outputs": [],
   "source": [
    "#사진 읽어들이기\n",
    "src = cv2.imread('.\\\\data3.png')"
   ]
  },
  {
   "cell_type": "code",
   "execution_count": 3,
   "id": "aeeaf634-454c-4e7a-8e17-845bfae1346d",
   "metadata": {},
   "outputs": [],
   "source": [
    "#고양이 위치\n",
    "src_ cat= src[270:380, 440:570]"
   ]
  },
  {
   "cell_type": "code",
   "execution_count": 4,
   "id": "e62d550e-133b-49fb-9b3e-7f3b7bdaba48",
   "metadata": {},
   "outputs": [],
   "source": [
    "cv2.imshow('cat.png', src_face)\n",
    "cv2.waitKey(0) # 0 forever \n",
    "cv2.destroyAllWindows()"
   ]
  }
 ],
 "metadata": {
  "kernelspec": {
   "display_name": "Python 3",
   "language": "python",
   "name": "python3"
  },
  "language_info": {
   "codemirror_mode": {
    "name": "ipython",
    "version": 3
   },
   "file_extension": ".py",
   "mimetype": "text/x-python",
   "name": "python",
   "nbconvert_exporter": "python",
   "pygments_lexer": "ipython3",
   "version": "3.8.8"
  }
 },
 "nbformat": 4,
 "nbformat_minor": 5
}
